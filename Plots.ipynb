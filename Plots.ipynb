{
 "cells": [
  {
   "cell_type": "markdown",
   "id": "3e711ece",
   "metadata": {},
   "source": [
    "# Bar chart"
   ]
  },
  {
   "cell_type": "markdown",
   "id": "0fdd2a75",
   "metadata": {},
   "source": [
    "To create a bar chart, use the `plt.bar()` function. The first argument (x-values) will usually be `range(len(y))`. The second argument will be the y-values."
   ]
  },
  {
   "cell_type": "markdown",
   "id": "f23883f2",
   "metadata": {},
   "source": [
    "You can modify the axes by saving the subplot in an `axes` object and then setting the ticks with `ax.set_xticklabels()` "
   ]
  },
  {
   "cell_type": "code",
   "execution_count": 1,
   "id": "96002416",
   "metadata": {},
   "outputs": [],
   "source": [
    "from matplotlib import pyplot as plt"
   ]
  },
  {
   "cell_type": "code",
   "execution_count": 2,
   "id": "e58fb12e",
   "metadata": {
    "scrolled": true
   },
   "outputs": [
    {
     "name": "stderr",
     "output_type": "stream",
     "text": [
      "<ipython-input-2-5ebd9182b613>:7: MatplotlibDeprecationWarning: Adding an axes using the same arguments as a previous axes currently reuses the earlier instance.  In a future version, a new instance will always be created and returned.  Meanwhile, this warning can be suppressed, and the future behavior ensured, by passing a unique label to each axes instance.\n",
      "  ax = plt.subplot()\n"
     ]
    },
    {
     "data": {
      "image/png": "[encoded data removed]",
      "text/plain": [
       "<Figure size 432x288 with 1 Axes>"
      ]
     },
     "metadata": {
      "needs_background": "light"
     },
     "output_type": "display_data"
    }
   ],
   "source": [
    "drinks = [\"cappuccino\", \"latte\", \"chai\", \"americano\", \"mocha\", \"espresso\"]\n",
    "sales =  [91, 76, 56, 66, 52, 27]\n",
    "\n",
    "plt.bar(range(len(drinks)), sales)\n",
    "\n",
    "#create your ax object here\n",
    "ax = plt.subplot()\n",
    "ax.set_xticks(range(len(drinks)))\n",
    "ax.set_xticklabels(drinks)\n",
    "plt.show()"
   ]
  },
  {
   "cell_type": "markdown",
   "id": "72859060",
   "metadata": {},
   "source": [
    "We can also use a bar-chart to compare two sets of data"
   ]
  },
  {
   "cell_type": "code",
   "execution_count": 3,
   "id": "7f95e9fb",
   "metadata": {},
   "outputs": [
    {
     "data": {
      "image/png": "[encoded data removed]",
      "text/plain": [
       "<Figure size 432x288 with 1 Axes>"
      ]
     },
     "metadata": {
      "needs_background": "light"
     },
     "output_type": "display_data"
    }
   ],
   "source": [
    "\n",
    "drinks = [\"cappuccino\", \"latte\", \"chai\", \"americano\", \"mocha\", \"espresso\"]\n",
    "sales1 =  [91, 76, 56, 66, 52, 27]\n",
    "sales2 = [65, 82, 36, 68, 38, 40]\n",
    "\n",
    "#Paste the x_values code here\n",
    "n = 1  # This is our first dataset (out of 2)\n",
    "t = 2 # Number of datasets\n",
    "d = 6 # Number of sets of bars\n",
    "w = 0.8 # Width of each bar\n",
    "store1_x= [t*element + w*n for element\n",
    "             in range(d)]\n",
    "plt.bar(store1_x, sales1)\n",
    "\n",
    "n = 2  # This is our second dataset (out of 2)\n",
    "t = 2 # Number of datasets\n",
    "d = 6 # Number of sets of bars\n",
    "w = 0.8 # Width of each bar\n",
    "store2_x= [t*element + w*n for element\n",
    "             in range(d)]\n",
    "plt.bar(store2_x, sales2)\n",
    "plt.show()"
   ]
  },
  {
   "cell_type": "markdown",
   "id": "fd81753a",
   "metadata": {},
   "source": [
    "We can also use stacked-bars to represent the data. We do this by using the keyword `bottom` set to the heights of the other set of bars in the second set."
   ]
  },
  {
   "cell_type": "code",
   "execution_count": 19,
   "id": "d9319499",
   "metadata": {},
   "outputs": [
    {
     "data": {
      "image/png": "[encoded data removed]",
      "text/plain": [
       "<Figure size 432x288 with 1 Axes>"
      ]
     },
     "metadata": {
      "needs_background": "light"
     },
     "output_type": "display_data"
    }
   ],
   "source": [
    "video_game_hours = [1, 2, 2, 1, 2] # first set\n",
    " \n",
    "plt.bar(range(len(video_game_hours)),\n",
    "  video_game_hours, color='blue') \n",
    "\n",
    "book_hours = [2, 3, 4, 2, 1] # second set\n",
    " \n",
    "plt.bar(range(len(book_hours)),\n",
    "  book_hours,\n",
    "  bottom=video_game_hours, color='pink')\n",
    "\n",
    "plt.legend(['videogames', 'books'])\n",
    "plt.xlabel('Weekday')\n",
    "plt.ylabel('Hours spent')\n",
    "\n",
    "plt.show()"
   ]
  }
 ],
 "metadata": {
  "kernelspec": {
   "display_name": "Python 3",
   "language": "python",
   "name": "python3"
  },
  "language_info": {
   "codemirror_mode": {
    "name": "ipython",
    "version": 3
   },
   "file_extension": ".py",
   "mimetype": "text/x-python",
   "name": "python",
   "nbconvert_exporter": "python",
   "pygments_lexer": "ipython3",
   "version": "3.8.8"
  }
 },
 "nbformat": 4,
 "nbformat_minor": 5
}
